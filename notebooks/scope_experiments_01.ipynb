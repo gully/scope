{
 "cells": [
  {
   "cell_type": "markdown",
   "metadata": {},
   "source": [
    "# Generate lightkurve test data with scope\n",
    "\n",
    "M. Gully-Santiago  \n",
    "June 24, 2019\n",
    "Kepler/K2 GO Office\n",
    "\n",
    "This notebook generates example test data for evaluating lightkurve's detrending methods.  \n",
    "Aimed at [Lightkurve GitHub Issue 531](https://github.com/KeplerGO/lightkurve/issues/531)."
   ]
  },
  {
   "cell_type": "code",
   "execution_count": null,
   "metadata": {},
   "outputs": [],
   "source": [
    "import scope"
   ]
  },
  {
   "cell_type": "code",
   "execution_count": null,
   "metadata": {},
   "outputs": [],
   "source": [
    "import lightkurve as lk"
   ]
  },
  {
   "cell_type": "code",
   "execution_count": null,
   "metadata": {},
   "outputs": [],
   "source": [
    "# %load /Users/obsidian/Desktop/defaults.py\n",
    "import pandas as pd\n",
    "import numpy as np\n",
    "import matplotlib.pyplot as plt\n",
    "%matplotlib inline\n",
    "%config InlineBackend.figure_format = 'retina'"
   ]
  },
  {
   "cell_type": "code",
   "execution_count": null,
   "metadata": {},
   "outputs": [],
   "source": [
    "from astropy.io import fits"
   ]
  },
  {
   "cell_type": "markdown",
   "metadata": {},
   "source": [
    "## Stellar lightcurves"
   ]
  },
  {
   "cell_type": "code",
   "execution_count": null,
   "metadata": {},
   "outputs": [],
   "source": [
    "target = scope.generate_target()"
   ]
  },
  {
   "cell_type": "code",
   "execution_count": null,
   "metadata": {},
   "outputs": [],
   "source": [
    "target"
   ]
  },
  {
   "cell_type": "code",
   "execution_count": null,
   "metadata": {},
   "outputs": [],
   "source": [
    "plt.plot(target.xpos, target.ypos, '.')"
   ]
  },
  {
   "cell_type": "markdown",
   "metadata": {},
   "source": [
    "Neat"
   ]
  },
  {
   "cell_type": "code",
   "execution_count": null,
   "metadata": {},
   "outputs": [],
   "source": [
    "import copy"
   ]
  },
  {
   "cell_type": "markdown",
   "metadata": {},
   "source": [
    "# Simulate test data:\n",
    "\n",
    "Let's start with the sine wave\n",
    "\n",
    "> synthetic-k2-flat.targ.fits shall use a flat light curve;\n",
    "\n",
    "> synthetic-k2-sinusoid.targ.fits shall use a low-frequency sinusoid (e.g. 5-day period);\n",
    "\n",
    "> synthetic-k2-planet.targ.fits shall use a short-period Neptune-sized planet (e.g. Kp = 14; planet period = 5 days; transit depth = 2000ppm)."
   ]
  },
  {
   "cell_type": "code",
   "execution_count": null,
   "metadata": {},
   "outputs": [],
   "source": [
    "target_sine = copy.copy(target)"
   ]
  },
  {
   "cell_type": "code",
   "execution_count": null,
   "metadata": {},
   "outputs": [],
   "source": [
    "target_sine"
   ]
  },
  {
   "cell_type": "code",
   "execution_count": null,
   "metadata": {},
   "outputs": [],
   "source": [
    "rot_period = 5.0 # days\n",
    "lc_amp = 0.001 # percent amplitude\n",
    "injected_sine_lc = 1.0+ lc_amp * np.sin(2.0*np.pi*target.t/rot_period)"
   ]
  },
  {
   "cell_type": "code",
   "execution_count": null,
   "metadata": {},
   "outputs": [],
   "source": [
    "plt.plot(target.t, injected_sine_lc);"
   ]
  },
  {
   "cell_type": "code",
   "execution_count": null,
   "metadata": {},
   "outputs": [],
   "source": [
    "target_sine.add_variability(custom_variability=injected_sine_lc)"
   ]
  },
  {
   "cell_type": "code",
   "execution_count": null,
   "metadata": {},
   "outputs": [],
   "source": [
    "target_sine.plot()"
   ]
  },
  {
   "cell_type": "markdown",
   "metadata": {},
   "source": [
    "Yay, looks good"
   ]
  },
  {
   "cell_type": "code",
   "execution_count": null,
   "metadata": {},
   "outputs": [],
   "source": [
    "sine_tpf = target_sine.to_lightkurve_tpf(target_id=\"simulated_sine_P5days_Amp0p001\")"
   ]
  },
  {
   "cell_type": "markdown",
   "metadata": {},
   "source": [
    "### Synthetic TPFs lack requisite metadata found in genuine TPFs\n",
    "\n",
    "We want to generate synthetic TPFs that satisfy three sometimes-competing demands:\n",
    "- resemble genuine TPFs in every important way\n",
    "- possess the least amount of placeholder metadata so as not to confuse synthetic with real data.\n",
    "- possess the pristine injected signal vector and affiliated metadata\n"
   ]
  },
  {
   "cell_type": "markdown",
   "metadata": {},
   "source": [
    "Let's **manually** add these parcels of metadata:\n",
    " - row\n",
    " - column"
   ]
  },
  {
   "cell_type": "code",
   "execution_count": null,
   "metadata": {},
   "outputs": [],
   "source": [
    "genuine_tpf = lk.search_targetpixelfile(205998445, mission='K2').download()"
   ]
  },
  {
   "cell_type": "code",
   "execution_count": null,
   "metadata": {},
   "outputs": [],
   "source": [
    "genuine_tpf.plot(aperture_mask=genuine_tpf.pipeline_mask)"
   ]
  },
  {
   "cell_type": "markdown",
   "metadata": {},
   "source": [
    "Compare the genuine TPF header to the synthetic TPF header."
   ]
  },
  {
   "cell_type": "code",
   "execution_count": null,
   "metadata": {},
   "outputs": [],
   "source": [
    "col = genuine_tpf.get_keyword('1CRV5P', hdu=1, default=0)\n",
    "row = genuine_tpf.get_keyword('2CRV5P', hdu=1, default=0)\n",
    "\n",
    "sine_tpf.hdu[1].header.set('1CRV5P', value=col)\n",
    "sine_tpf.hdu[1].header.set('2CRV5P', value=row)"
   ]
  },
  {
   "cell_type": "markdown",
   "metadata": {},
   "source": [
    "### Package the pristine signal into the fits file somehow"
   ]
  },
  {
   "cell_type": "code",
   "execution_count": null,
   "metadata": {},
   "outputs": [],
   "source": [
    "sine_tpf.hdu.info()"
   ]
  },
  {
   "cell_type": "code",
   "execution_count": null,
   "metadata": {},
   "outputs": [],
   "source": [
    "extra_hdu = fits.BinTableHDU.from_columns([fits.Column(name='NOISELESS_INPUT', format='E', \n",
    "                                 array=injected_sine_lc)])"
   ]
  },
  {
   "cell_type": "code",
   "execution_count": null,
   "metadata": {},
   "outputs": [],
   "source": [
    "extra_hdu.name = 'SIMULATED_SIGNAL'"
   ]
  },
  {
   "cell_type": "code",
   "execution_count": null,
   "metadata": {},
   "outputs": [],
   "source": [
    "sine_tpf.hdu.append(extra_hdu)"
   ]
  },
  {
   "cell_type": "code",
   "execution_count": null,
   "metadata": {},
   "outputs": [],
   "source": [
    "sine_tpf.hdu.info()"
   ]
  },
  {
   "cell_type": "markdown",
   "metadata": {},
   "source": [
    "Nice!  Let's add some metadata into the header to label the sine period and amplitude."
   ]
  },
  {
   "cell_type": "code",
   "execution_count": null,
   "metadata": {},
   "outputs": [],
   "source": [
    "sine_tpf.hdu[3].header.set('PERIOD', value=rot_period, comment='Period of noiseless input sine wave')\n",
    "sine_tpf.hdu[3].header.set('SINE_AMP', value=lc_amp, comment='Amplitude of noiseless input sine wave')"
   ]
  },
  {
   "cell_type": "code",
   "execution_count": null,
   "metadata": {},
   "outputs": [],
   "source": [
    "hdr = sine_tpf.hdu[3].header"
   ]
  },
  {
   "cell_type": "code",
   "execution_count": null,
   "metadata": {},
   "outputs": [],
   "source": [
    "hdr"
   ]
  },
  {
   "cell_type": "code",
   "execution_count": null,
   "metadata": {},
   "outputs": [],
   "source": [
    "sine_tpf.to_fits(output_fn='synthetic-k2-sinusoid.targ.fits', overwrite=True)\n",
    "\n",
    "tpf_roundtrip = lk.KeplerTargetPixelFile('synthetic-k2-sinusoid.targ.fits')\n",
    "\n",
    "tpf_roundtrip.plot()"
   ]
  },
  {
   "cell_type": "code",
   "execution_count": null,
   "metadata": {},
   "outputs": [],
   "source": [
    "tpf_roundtrip.hdu.info()"
   ]
  },
  {
   "cell_type": "code",
   "execution_count": null,
   "metadata": {},
   "outputs": [],
   "source": [
    "tpf_roundtrip.hdu['SIMULATED_SIGNAL'].columns"
   ]
  },
  {
   "cell_type": "code",
   "execution_count": null,
   "metadata": {},
   "outputs": [],
   "source": [
    "lc = tpf_roundtrip.to_lightcurve()\n",
    "\n",
    "lc.plot()\n",
    "\n",
    "simulated = tpf_roundtrip.hdu['SIMULATED_SIGNAL'].data['NOISELESS_INPUT']\n",
    "plt.plot(tpf_roundtrip.time, simulated, label='Pristine signal')\n",
    "plt.legend()"
   ]
  },
  {
   "cell_type": "markdown",
   "metadata": {},
   "source": [
    "Works well!"
   ]
  },
  {
   "cell_type": "code",
   "execution_count": null,
   "metadata": {},
   "outputs": [],
   "source": [
    "! ls"
   ]
  },
  {
   "cell_type": "code",
   "execution_count": null,
   "metadata": {},
   "outputs": [],
   "source": [
    "pg = tpf_roundtrip.to_lightcurve().to_periodogram()"
   ]
  },
  {
   "cell_type": "code",
   "execution_count": null,
   "metadata": {},
   "outputs": [],
   "source": [
    "pg.plot(view='period')\n",
    "plt.xlim(0,10)"
   ]
  },
  {
   "cell_type": "code",
   "execution_count": null,
   "metadata": {},
   "outputs": [],
   "source": [
    "tpf_roundtrip.hdu[3].header"
   ]
  },
  {
   "cell_type": "markdown",
   "metadata": {},
   "source": [
    "Looks like it finds the right period even without detrending.  Nice!"
   ]
  },
  {
   "cell_type": "markdown",
   "metadata": {},
   "source": [
    "# Simulate a planet transit signal\n",
    "\n",
    "> synthetic-k2-planet.targ.fits shall use a short-period Neptune-sized planet (e.g. Kp = 14; planet period = 5 days; transit depth = 2000ppm).\n",
    "\n",
    "We'll need `Starry` for this task."
   ]
  },
  {
   "cell_type": "code",
   "execution_count": null,
   "metadata": {},
   "outputs": [],
   "source": [
    "import starry"
   ]
  },
  {
   "cell_type": "code",
   "execution_count": null,
   "metadata": {},
   "outputs": [],
   "source": [
    "star = starry.kepler.Primary()"
   ]
  },
  {
   "cell_type": "markdown",
   "metadata": {},
   "source": [
    "Add limb darkening"
   ]
  },
  {
   "cell_type": "code",
   "execution_count": null,
   "metadata": {},
   "outputs": [],
   "source": [
    "star[1] = 0.40\n",
    "star[2] = 0.26"
   ]
  },
  {
   "cell_type": "code",
   "execution_count": null,
   "metadata": {},
   "outputs": [],
   "source": [
    "planet = starry.kepler.Secondary(lmax=5)"
   ]
  },
  {
   "cell_type": "code",
   "execution_count": null,
   "metadata": {},
   "outputs": [],
   "source": [
    "planet.r = 0.044 # Rp/R_star, reverse-engineering a nearly 2000 ppm transit without limb darkening\n",
    "planet.porb = 5 # 5 day period\n",
    "planet.a = 12.3108 # Semi-major axis, assuming 1 solar mass star"
   ]
  },
  {
   "cell_type": "markdown",
   "metadata": {},
   "source": [
    "$P^2 \\propto A^3$"
   ]
  },
  {
   "cell_type": "code",
   "execution_count": null,
   "metadata": {},
   "outputs": [],
   "source": [
    "AUs = (5.0 * 1.0/365.0)**(2/3) * (1/0.00465047)"
   ]
  },
  {
   "cell_type": "code",
   "execution_count": null,
   "metadata": {},
   "outputs": [],
   "source": [
    "rprs = np.sqrt(2000/1.0e6)"
   ]
  },
  {
   "cell_type": "code",
   "execution_count": null,
   "metadata": {},
   "outputs": [],
   "source": [
    "rprs"
   ]
  },
  {
   "cell_type": "code",
   "execution_count": null,
   "metadata": {},
   "outputs": [],
   "source": [
    "system = starry.kepler.System(star, planet)"
   ]
  },
  {
   "cell_type": "code",
   "execution_count": null,
   "metadata": {},
   "outputs": [],
   "source": [
    "time = target.t\n",
    "%time system.compute(time)"
   ]
  },
  {
   "cell_type": "code",
   "execution_count": null,
   "metadata": {},
   "outputs": [],
   "source": [
    "plt.subplots(1, figsize=(14, 3))\n",
    "plt.xlabel('Time [days]', fontsize=16)\n",
    "plt.ylabel('System Flux', fontsize=16)\n",
    "plt.plot(time, system.lightcurve);"
   ]
  },
  {
   "cell_type": "markdown",
   "metadata": {},
   "source": [
    "Nice, let's add this lightcurve to a scope model."
   ]
  },
  {
   "cell_type": "code",
   "execution_count": null,
   "metadata": {},
   "outputs": [],
   "source": [
    "target_planet = copy.copy(target)"
   ]
  },
  {
   "cell_type": "code",
   "execution_count": null,
   "metadata": {},
   "outputs": [],
   "source": [
    "target_planet.add_variability(custom_variability=system.lightcurve)"
   ]
  },
  {
   "cell_type": "code",
   "execution_count": null,
   "metadata": {},
   "outputs": [],
   "source": [
    "target_planet.plot()"
   ]
  },
  {
   "cell_type": "code",
   "execution_count": null,
   "metadata": {},
   "outputs": [],
   "source": [
    "plan_tpf = target_planet.to_lightkurve_tpf(target_id=\"simulated_planet_P5days\")\n",
    "plan_tpf.hdu[1].header.set('1CRV5P', value=col)\n",
    "plan_tpf.hdu[1].header.set('2CRV5P', value=row)\n",
    "\n",
    "extra_hdu = fits.BinTableHDU.from_columns([fits.Column(name='NOISELESS_INPUT', format='E', \n",
    "                                 array=system.lightcurve)])\n",
    "extra_hdu.name = 'SIMULATED_SIGNAL'\n",
    "plan_tpf.hdu.append(extra_hdu)\n",
    "plan_tpf.hdu[3].header.set('PERIOD', value=5.0, comment='Period of noiseless input transit')\n",
    "\n",
    "plan_tpf.to_fits(output_fn='synthetic-k2-planet.targ.fits', overwrite=True)"
   ]
  },
  {
   "cell_type": "code",
   "execution_count": null,
   "metadata": {},
   "outputs": [],
   "source": [
    "tpf_roundtrip = lk.KeplerTargetPixelFile('synthetic-k2-planet.targ.fits')\n",
    "\n",
    "tpf_roundtrip.plot()"
   ]
  },
  {
   "cell_type": "code",
   "execution_count": null,
   "metadata": {},
   "outputs": [],
   "source": [
    "tpf_roundtrip.to_lightcurve().plot()\n",
    "plt.plot(time, system.lightcurve, lw=2, alpha=0.5);"
   ]
  },
  {
   "cell_type": "markdown",
   "metadata": {},
   "source": [
    "Great!"
   ]
  },
  {
   "cell_type": "markdown",
   "metadata": {},
   "source": [
    "## Save a default flat, featureless lightcurve"
   ]
  },
  {
   "cell_type": "code",
   "execution_count": null,
   "metadata": {},
   "outputs": [],
   "source": [
    "flat_tpf = target.to_lightkurve_tpf(target_id=\"simulated_flat_star\")\n",
    "flat_tpf.hdu[1].header.set('1CRV5P', value=col)\n",
    "flat_tpf.hdu[1].header.set('2CRV5P', value=row)\n",
    "\n",
    "extra_hdu = fits.BinTableHDU.from_columns([fits.Column(name='NOISELESS_INPUT', format='E', \n",
    "                                 array=np.ones(1000))])\n",
    "extra_hdu.name = 'SIMULATED_SIGNAL'\n",
    "flat_tpf.hdu.append(extra_hdu)\n",
    "\n",
    "flat_tpf.to_fits(output_fn='synthetic-k2-flat.targ.fits', overwrite=True)"
   ]
  },
  {
   "cell_type": "markdown",
   "metadata": {},
   "source": [
    "## The end!"
   ]
  }
 ],
 "metadata": {
  "kernelspec": {
   "display_name": "Python 3",
   "language": "python",
   "name": "python3"
  },
  "language_info": {
   "codemirror_mode": {
    "name": "ipython",
    "version": 3
   },
   "file_extension": ".py",
   "mimetype": "text/x-python",
   "name": "python",
   "nbconvert_exporter": "python",
   "pygments_lexer": "ipython3",
   "version": "3.6.8"
  }
 },
 "nbformat": 4,
 "nbformat_minor": 2
}
